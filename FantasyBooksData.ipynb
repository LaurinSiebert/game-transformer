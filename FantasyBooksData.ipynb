{
 "cells": [
  {
   "metadata": {
    "ExecuteTime": {
     "end_time": "2025-04-26T14:29:14.592237Z",
     "start_time": "2025-04-26T14:29:09.450495Z"
    }
   },
   "cell_type": "code",
   "source": [
    "import kagglehub\n",
    "\n",
    "# Download the dataset\n",
    "path = kagglehub.dataset_download(\"meshcheriakovilya/fantasy-books\")\n",
    "\n",
    "print(\"Path to dataset files:\", path)"
   ],
   "id": "ba9ce12ec417934e",
   "outputs": [
    {
     "name": "stdout",
     "output_type": "stream",
     "text": [
      "Downloading from https://www.kaggle.com/api/v1/datasets/download/meshcheriakovilya/fantasy-books?dataset_version_number=2...\n"
     ]
    },
    {
     "name": "stderr",
     "output_type": "stream",
     "text": [
      "100%|██████████| 6.67M/6.67M [00:01<00:00, 4.84MB/s]"
     ]
    },
    {
     "name": "stdout",
     "output_type": "stream",
     "text": [
      "Extracting files...\n",
      "Path to dataset files: C:\\Users\\lauri\\.cache\\kagglehub\\datasets\\meshcheriakovilya\\fantasy-books\\versions\\2\n"
     ]
    },
    {
     "name": "stderr",
     "output_type": "stream",
     "text": [
      "\n"
     ]
    }
   ],
   "execution_count": 3
  },
  {
   "metadata": {
    "ExecuteTime": {
     "end_time": "2025-04-26T14:45:39.505830Z",
     "start_time": "2025-04-26T14:45:39.403212Z"
    }
   },
   "cell_type": "code",
   "source": [
    "import pandas as pd\n",
    "import os\n",
    "\n",
    "all_chunks = []\n",
    "\n",
    "for file in os.listdir(path):\n",
    "    print(file)\n",
    "    file_path = os.path.join(path, file)\n",
    "    with open(file_path, \"r\", encoding=\"utf-8\") as f:\n",
    "        text = f.read().replace(\"\\n\", \" \").strip()\n",
    "        chunks = [text[i : i + 500] for i in range(0, len(text), 500)]\n",
    "        all_chunks.extend(chunks)\n",
    "\n",
    "# Create a DataFrame\n",
    "fantasy_books = pd.DataFrame(all_chunks, columns=[\"text\"])"
   ],
   "id": "4f383bd5b915750a",
   "outputs": [
    {
     "name": "stdout",
     "output_type": "stream",
     "text": [
      "2_Blood_of_Elves_The_Witcher_Book_2_by_Sapkowski_Andrzej.txt\n",
      "3_The_Time_of_Contempt_The_Witcher_Book_3_by_Sapkowski_Andrzej.txt\n",
      "4_Baptism_of_Fire_The_Witcher_4_by_Andrzej_Sapkowski.txt\n",
      "5_Sword_of_Destiny_The_Witcher_5_by_Andrzej_Sapkowski.txt\n",
      "6_The_Tower_of_the_Swallow_The_Witcher_6_by_Andrzej_Sapkowski.txt\n",
      "Andrzej_Sapkowski_-_Season_of_Storms.txt\n",
      "Andrzej_Sapkowski_-_The_Lady_of_the_Lake.txt\n",
      "Andrzej_Sapkowski_-_The_Last_Wish.txt\n",
      "dzhon_ronald_ruel_tolkin-the_hobbit.txt\n",
      "dzhon_ronald_ruel_tolkin-the_lord_of_the_rings.txt\n",
      "got1.txt\n",
      "got2.txt\n",
      "got3.txt\n",
      "got4.txt\n",
      "got5.txt\n"
     ]
    }
   ],
   "execution_count": 10
  },
  {
   "metadata": {
    "ExecuteTime": {
     "end_time": "2025-04-26T14:45:47.626513Z",
     "start_time": "2025-04-26T14:45:47.617982Z"
    }
   },
   "cell_type": "code",
   "source": "fantasy_books.head()",
   "id": "4cda8e0de9a286b2",
   "outputs": [
    {
     "data": {
      "text/plain": [
       "                                                text\n",
       "0  THE LAST WISH   Verily I say unto you, the era...\n",
       "1  gns! What signs these shall be, I say unto you...\n",
       "2  ram smashing against the walls grew ever loude...\n",
       "3  ptly spur his horse. She heard his cry. “Hold ...\n",
       "4  ain shot through her hands as she clutched at ..."
      ],
      "text/html": [
       "<div>\n",
       "<style scoped>\n",
       "    .dataframe tbody tr th:only-of-type {\n",
       "        vertical-align: middle;\n",
       "    }\n",
       "\n",
       "    .dataframe tbody tr th {\n",
       "        vertical-align: top;\n",
       "    }\n",
       "\n",
       "    .dataframe thead th {\n",
       "        text-align: right;\n",
       "    }\n",
       "</style>\n",
       "<table border=\"1\" class=\"dataframe\">\n",
       "  <thead>\n",
       "    <tr style=\"text-align: right;\">\n",
       "      <th></th>\n",
       "      <th>text</th>\n",
       "    </tr>\n",
       "  </thead>\n",
       "  <tbody>\n",
       "    <tr>\n",
       "      <th>0</th>\n",
       "      <td>THE LAST WISH   Verily I say unto you, the era...</td>\n",
       "    </tr>\n",
       "    <tr>\n",
       "      <th>1</th>\n",
       "      <td>gns! What signs these shall be, I say unto you...</td>\n",
       "    </tr>\n",
       "    <tr>\n",
       "      <th>2</th>\n",
       "      <td>ram smashing against the walls grew ever loude...</td>\n",
       "    </tr>\n",
       "    <tr>\n",
       "      <th>3</th>\n",
       "      <td>ptly spur his horse. She heard his cry. “Hold ...</td>\n",
       "    </tr>\n",
       "    <tr>\n",
       "      <th>4</th>\n",
       "      <td>ain shot through her hands as she clutched at ...</td>\n",
       "    </tr>\n",
       "  </tbody>\n",
       "</table>\n",
       "</div>"
      ]
     },
     "execution_count": 11,
     "metadata": {},
     "output_type": "execute_result"
    }
   ],
   "execution_count": 11
  },
  {
   "metadata": {},
   "cell_type": "code",
   "outputs": [],
   "execution_count": null,
   "source": "",
   "id": "faceea7860757ff4"
  }
 ],
 "metadata": {
  "kernelspec": {
   "display_name": "Python 3",
   "language": "python",
   "name": "python3"
  },
  "language_info": {
   "codemirror_mode": {
    "name": "ipython",
    "version": 2
   },
   "file_extension": ".py",
   "mimetype": "text/x-python",
   "name": "python",
   "nbconvert_exporter": "python",
   "pygments_lexer": "ipython2",
   "version": "2.7.6"
  }
 },
 "nbformat": 4,
 "nbformat_minor": 5
}
